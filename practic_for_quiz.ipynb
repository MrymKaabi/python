{
 "cells": [
  {
   "cell_type": "markdown",
   "metadata": {},
   "source": [
    "# The List "
   ]
  },
  {
   "cell_type": "code",
   "execution_count": 4,
   "metadata": {},
   "outputs": [
    {
     "name": "stdout",
     "output_type": "stream",
     "text": [
      "['m', 't', 'h', 'l', 4, '9']\n"
     ]
    }
   ],
   "source": [
    "# ممكن نعرف اللست في البايثون لعدة طرق\n",
    "st= list(( \"m\" , \"t\", \"h\", \"l\", 4, \"9\" ))\n",
    "print(st)\n"
   ]
  },
  {
   "cell_type": "code",
   "execution_count": 5,
   "metadata": {},
   "outputs": [
    {
     "data": {
      "text/plain": [
       "list"
      ]
     },
     "execution_count": 5,
     "metadata": {},
     "output_type": "execute_result"
    }
   ],
   "source": [
    "st=[\"m\" , \"t\", \"h\", \"l\", 4, \"9\"]\n",
    "type(st)"
   ]
  },
  {
   "cell_type": "code",
   "execution_count": 6,
   "metadata": {},
   "outputs": [
    {
     "data": {
      "text/plain": [
       "6"
      ]
     },
     "execution_count": 6,
     "metadata": {},
     "output_type": "execute_result"
    }
   ],
   "source": [
    "#  طول اللست او كم عنصر موجود فيها\n",
    "x= len(st)\n",
    "x"
   ]
  },
  {
   "cell_type": "code",
   "execution_count": 7,
   "metadata": {},
   "outputs": [
    {
     "name": "stdout",
     "output_type": "stream",
     "text": [
      "h\n",
      "9\n"
     ]
    }
   ],
   "source": [
    "# البحث عن عنصر معين\n",
    "print (st[2])\n",
    "print (st[-1])"
   ]
  },
  {
   "cell_type": "code",
   "execution_count": 8,
   "metadata": {},
   "outputs": [
    {
     "name": "stdout",
     "output_type": "stream",
     "text": [
      "['t', 'h', 'l', 4, '9']\n",
      "['m', 't', 'h', 'l', 4, '9']\n",
      "['h', 'l']\n"
     ]
    }
   ],
   "source": [
    "# هذا نفس السلايسنق\n",
    "print (st[1:]) # يطبع من اول ثاني عنصر الى اخر عنصر ويستخدم في حاله عم معرفة كم عنصر موجود\n",
    "print (st[:]) # من اول عنصر الى اخر عنصر\n",
    "print (st[2:4]) # من ثالث عنصر الى قبل الخامس"
   ]
  },
  {
   "cell_type": "code",
   "execution_count": 12,
   "metadata": {},
   "outputs": [
    {
     "name": "stdout",
     "output_type": "stream",
     "text": [
      "False\n",
      "True\n"
     ]
    }
   ],
   "source": [
    "# نقدر نشيك على عنصر اذا كان موجود ف اللست وشرط يكتب بنفس الطريقة\n",
    "x = \"M\" in st\n",
    "print (x)\n",
    "x =\"m\" in st\n",
    "print (x)"
   ]
  },
  {
   "cell_type": "code",
   "execution_count": 13,
   "metadata": {},
   "outputs": [
    {
     "data": {
      "text/plain": [
       "['m', 't', 'h', 'e', 4, '9']"
      ]
     },
     "execution_count": 13,
     "metadata": {},
     "output_type": "execute_result"
    }
   ],
   "source": [
    "# نقدر نغير العناصر ف اللست\n",
    "st[3]=\"e\"\n",
    "st"
   ]
  },
  {
   "cell_type": "code",
   "execution_count": 14,
   "metadata": {},
   "outputs": [
    {
     "data": {
      "text/plain": [
       "['m', 't', 'h', 'e', 4, 'o', '9']"
      ]
     },
     "execution_count": 14,
     "metadata": {},
     "output_type": "execute_result"
    }
   ],
   "source": [
    "# ممكن نضيف عناصر ف اللست\n",
    "st.insert(5, \"o\")\n",
    "st"
   ]
  },
  {
   "cell_type": "code",
   "execution_count": 15,
   "metadata": {},
   "outputs": [
    {
     "data": {
      "text/plain": [
       "['m', 't', 'h', 'e', 4, 'o', '9', 'd']"
      ]
     },
     "execution_count": 15,
     "metadata": {},
     "output_type": "execute_result"
    }
   ],
   "source": [
    "# وهذي اذا نبا نضيف عنصر بس يكون اخر اللست \n",
    "st.append(\"d\")\n",
    "st"
   ]
  },
  {
   "cell_type": "code",
   "execution_count": 16,
   "metadata": {},
   "outputs": [
    {
     "data": {
      "text/plain": [
       "['m', 't', 'h', 'e', 4, 'o', '9', 'd', 3, 2, 1]"
      ]
     },
     "execution_count": 16,
     "metadata": {},
     "output_type": "execute_result"
    }
   ],
   "source": [
    "# نقدر نضيف لست داخل لست\n",
    "new = [3, 2, 1]\n",
    "st.extend(new)\n",
    "st"
   ]
  },
  {
   "cell_type": "code",
   "execution_count": 17,
   "metadata": {},
   "outputs": [
    {
     "data": {
      "text/plain": [
       "['m', 't', 'h', 'e', 4, 'o', '9', 'd', 2]"
      ]
     },
     "execution_count": 17,
     "metadata": {},
     "output_type": "execute_result"
    }
   ],
   "source": [
    "# نقدر نحذف اي عنصر ف اللست ب طريقتين\n",
    "st.remove(3)\n",
    "st.pop(-1)\n",
    "st"
   ]
  },
  {
   "cell_type": "code",
   "execution_count": 20,
   "metadata": {},
   "outputs": [
    {
     "data": {
      "text/plain": [
       "['a', 'b', 'g', 'k']"
      ]
     },
     "execution_count": 20,
     "metadata": {},
     "output_type": "execute_result"
    }
   ],
   "source": [
    "# ممكن نرتب اللست\n",
    "L = [\"a\", \"g\", \"k\", \"b\"]\n",
    "L.sort()\n",
    "L"
   ]
  },
  {
   "cell_type": "code",
   "execution_count": 21,
   "metadata": {},
   "outputs": [
    {
     "data": {
      "text/plain": [
       "['e', 'h', 'm', 't', 4, 'o', '9', 'd', 2]"
      ]
     },
     "execution_count": 21,
     "metadata": {},
     "output_type": "execute_result"
    }
   ],
   "source": [
    "# ممكن ننسخ اللست اذا بغينا نعدل فيها بدون ما تتأثر الاصلية \n",
    "s=st.copy()\n",
    "s"
   ]
  },
  {
   "cell_type": "code",
   "execution_count": 22,
   "metadata": {},
   "outputs": [
    {
     "data": {
      "text/plain": [
       "['e', 'h', 'm', 't', 4, 'o', '9', 'd', 2, 'a', 'b', 'g', 'k']"
      ]
     },
     "execution_count": 22,
     "metadata": {},
     "output_type": "execute_result"
    }
   ],
   "source": [
    "# ممكن نجمع لستتي مع بعض\n",
    "L2=st+L\n",
    "L2"
   ]
  }
 ],
 "metadata": {
  "kernelspec": {
   "display_name": "Python 3",
   "language": "python",
   "name": "python3"
  },
  "language_info": {
   "codemirror_mode": {
    "name": "ipython",
    "version": 3
   },
   "file_extension": ".py",
   "mimetype": "text/x-python",
   "name": "python",
   "nbconvert_exporter": "python",
   "pygments_lexer": "ipython3",
   "version": "3.10.8"
  }
 },
 "nbformat": 4,
 "nbformat_minor": 2
}
